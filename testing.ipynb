{
 "cells": [
  {
   "cell_type": "code",
   "execution_count": 73,
   "metadata": {},
   "outputs": [],
   "source": [
    "import os\n",
    "from dotenv import load_dotenv\n",
    "load_dotenv()\n",
    "from lumaai import AsyncLumaAI\n",
    "\n"
   ]
  },
  {
   "cell_type": "code",
   "execution_count": 74,
   "metadata": {},
   "outputs": [],
   "source": [
    "client = AsyncLumaAI(\n",
    "    auth_token=os.environ.get(\"LUMAAI_API_KEY\"),\n",
    ")"
   ]
  },
  {
   "cell_type": "code",
   "execution_count": 75,
   "metadata": {},
   "outputs": [],
   "source": [
    "generation = await client.generations.create(\n",
    "    prompt=\"A teddy bear in sunglasses playing electric guitar and dancing\",\n",
    ")"
   ]
  },
  {
   "cell_type": "code",
   "execution_count": 76,
   "metadata": {},
   "outputs": [
    {
     "data": {
      "text/plain": [
       "Generation(id='dbf74aaf-f3f6-4960-9d6a-093f09f2c0f8', assets=None, created_at=datetime.datetime(2024, 9, 29, 4, 51, 7, 580010, tzinfo=TzInfo(UTC)), failure_reason=None, request=Request(aspect_ratio='16:9', keyframes=None, loop=False, prompt='A teddy bear in sunglasses playing electric guitar and dancing'), state='queued', version=None)"
      ]
     },
     "execution_count": 76,
     "metadata": {},
     "output_type": "execute_result"
    }
   ],
   "source": [
    "generation"
   ]
  },
  {
   "cell_type": "code",
   "execution_count": 14,
   "metadata": {},
   "outputs": [],
   "source": [
    "import requests\n",
    "# import os\n",
    "# from dotenv import load_dotenv\n",
    "# load_dotenv()\n",
    "\n",
    "url = 'https://spcluma-backend.onrender.com/text_to_video'\n",
    "\n",
    "text_to_convert = \"An FPV drone shot tracking a White Porsche driving 60 MPH right to left along a hong kong city skyline at midnight. The drone slowly moves away from the car, keeping the car in the frame but growing smaller. The vibrant city lights are sparkling and the wheels of the porsche are spinning fast.\"\n",
    "\n",
    "headers = {\n",
    "    'Content-Type': 'application/json',\n",
    "}\n",
    "\n",
    "data = {\n",
    "    'text': text_to_convert,\n",
    "    'api_key': \"d6287faa-c94d-4e1f-9c7a-3f769fec78fb\",\n",
    "    'start_frame': \"https://i.ibb.co/cvqY8c7/neilsonnn-httpss-mj-run-Ja-Qm-IYyyg8c-white-Porsche-at-side-of-r-4bd9d1af-7d41-4a10-9278-c484d3b39d4.png\"\n",
    "}\n",
    "\n",
    "response = requests.post(url, json=data, headers=headers)"
   ]
  },
  {
   "cell_type": "code",
   "execution_count": 66,
   "metadata": {},
   "outputs": [],
   "source": [
    "import requests\n",
    "# import os\n",
    "# from dotenv import load_dotenv\n",
    "# load_dotenv()\n",
    "\n",
    "url = 'https://spcluma-backend.onrender.com/text_to_video'\n",
    "\n",
    "# text_to_convert = \"An FPV drone shot tracking a White Porsche moving 60 MPH right to left along a snowy boston skyline during midday. The drone slowly moves away from the car, keeping the car in the frame but growing smaller. The snow is falling gently from the sky with the porsche's exhaust billowing behind the car and the wheels of the porsche are spinning counterclockwise.\"\n",
    "text_to_convert = \"An FPV drone shot tracking a White Porsche driving 60 MPH driving leftward across the screen along the snowy road in boston. The car is driving fast but the shot remains cinematic\"\n",
    "headers = {\n",
    "    'Content-Type': 'application/json',\n",
    "}\n",
    "\n",
    "data = {\n",
    "    'text': text_to_convert,\n",
    "    'api_key': \"d6287faa-c94d-4e1f-9c7a-3f769fec78fb\",\n",
    "    'start_frame': \"https://i.ibb.co/ZXbQgYv/neilsonnn-httpss-mj-run-Ja-Qm-IYyyg8c-white-Porsche-at-side-of-r-10f4dafe-fb32-4351-aeaf-de72ee5620d.png\"\n",
    "}\n",
    "\n",
    "response = requests.post(url, json=data, headers=headers)\n"
   ]
  },
  {
   "cell_type": "code",
   "execution_count": null,
   "metadata": {},
   "outputs": [],
   "source": [
    "\"https://i.ibb.co/ZXbQgYv/neilsonnn-httpss-mj-run-Ja-Qm-IYyyg8c-white-Porsche-at-side-of-r-10f4dafe-fb32-4351-aeaf-de72ee5620d.png\""
   ]
  },
  {
   "cell_type": "code",
   "execution_count": 67,
   "metadata": {},
   "outputs": [
    {
     "data": {
      "text/plain": [
       "{'url': 'https://storage.cdn-luma.com/lit_lite_inference_v1.6-xl/df343882-517b-4ed9-b891-ca187cf18b4d/33de1809-9674-480e-bf4f-660f633113ad_video0d94d1d7261fb4204aa8fb1f69dd06b90.mp4'}"
      ]
     },
     "execution_count": 67,
     "metadata": {},
     "output_type": "execute_result"
    }
   ],
   "source": [
    "response.json()"
   ]
  },
  {
   "cell_type": "code",
   "execution_count": 37,
   "metadata": {},
   "outputs": [
    {
     "ename": "NameError",
     "evalue": "name 't' is not defined",
     "output_type": "error",
     "traceback": [
      "\u001b[1;31m---------------------------------------------------------------------------\u001b[0m",
      "\u001b[1;31mNameError\u001b[0m                                 Traceback (most recent call last)",
      "Cell \u001b[1;32mIn[37], line 1\u001b[0m\n\u001b[1;32m----> 1\u001b[0m \u001b[43mt\u001b[49m\n",
      "\u001b[1;31mNameError\u001b[0m: name 't' is not defined"
     ]
    }
   ],
   "source": [
    "t"
   ]
  },
  {
   "cell_type": "code",
   "execution_count": 15,
   "metadata": {},
   "outputs": [],
   "source": [
    "generation_test = client.generations.get(id=\"50cf64fa-654a-47a8-892e-a0c536a0ce0c\")"
   ]
  },
  {
   "cell_type": "code",
   "execution_count": 21,
   "metadata": {},
   "outputs": [
    {
     "ename": "AttributeError",
     "evalue": "'coroutine' object has no attribute 'assets'",
     "output_type": "error",
     "traceback": [
      "\u001b[1;31m---------------------------------------------------------------------------\u001b[0m",
      "\u001b[1;31mAttributeError\u001b[0m                            Traceback (most recent call last)",
      "Cell \u001b[1;32mIn[21], line 1\u001b[0m\n\u001b[1;32m----> 1\u001b[0m \u001b[43mgeneration_test\u001b[49m\u001b[38;5;241;43m.\u001b[39;49m\u001b[43massets\u001b[49m\n",
      "\u001b[1;31mAttributeError\u001b[0m: 'coroutine' object has no attribute 'assets'"
     ]
    }
   ],
   "source": [
    "generation_test.assets"
   ]
  },
  {
   "cell_type": "code",
   "execution_count": 17,
   "metadata": {},
   "outputs": [
    {
     "name": "stdout",
     "output_type": "stream",
     "text": [
      "File downloaded as video.mp4\n"
     ]
    }
   ],
   "source": [
    "import requests\n",
    "\n",
    "url = 'https://example.com/video.mp4'\n",
    "response = requests.get(url, stream=True)\n",
    "\n",
    "file_name = 'video.mp4'\n",
    "with open('video.mp4', 'wb') as file:\n",
    "    file.write(response.content)\n",
    "print(f\"File downloaded as {file_name}\")"
   ]
  },
  {
   "cell_type": "code",
   "execution_count": null,
   "metadata": {},
   "outputs": [],
   "source": []
  }
 ],
 "metadata": {
  "kernelspec": {
   "display_name": "Python 3",
   "language": "python",
   "name": "python3"
  },
  "language_info": {
   "codemirror_mode": {
    "name": "ipython",
    "version": 3
   },
   "file_extension": ".py",
   "mimetype": "text/x-python",
   "name": "python",
   "nbconvert_exporter": "python",
   "pygments_lexer": "ipython3",
   "version": "3.10.6"
  }
 },
 "nbformat": 4,
 "nbformat_minor": 2
}
